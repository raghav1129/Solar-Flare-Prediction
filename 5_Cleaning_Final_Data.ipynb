{
 "cells": [
  {
   "cell_type": "code",
   "execution_count": 1,
   "id": "dd2277dd",
   "metadata": {},
   "outputs": [],
   "source": [
    "import pandas as pd \n",
    "import numpy as np \n",
    "import seaborn as sns \n",
    "import matplotlib.pyplot as plt \n",
    "%matplotlib inline"
   ]
  },
  {
   "cell_type": "code",
   "execution_count": 2,
   "id": "402cdaca",
   "metadata": {},
   "outputs": [],
   "source": [
    "df = pd.read_excel(r'C:\\Users\\Raghav\\Desktop\\Solar Flare\\Data\\Final Data\\sunspots_new.xlsx')"
   ]
  },
  {
   "cell_type": "code",
   "execution_count": 3,
   "id": "fad2a979",
   "metadata": {},
   "outputs": [
    {
     "name": "stdout",
     "output_type": "stream",
     "text": [
      "<class 'pandas.core.frame.DataFrame'>\n",
      "RangeIndex: 8850 entries, 0 to 8849\n",
      "Data columns (total 13 columns):\n",
      " #   Column                   Non-Null Count  Dtype         \n",
      "---  ------                   --------------  -----         \n",
      " 0   Unnamed: 0               8850 non-null   int64         \n",
      " 1   X_Ray_Class              4425 non-null   object        \n",
      " 2   X_Ray_Intensity          4425 non-null   object        \n",
      " 3   Date                     8850 non-null   datetime64[ns]\n",
      " 4   magnetic_classification  8850 non-null   object        \n",
      " 5   NOAA                     8850 non-null   int64         \n",
      " 6   zurich_class             8850 non-null   object        \n",
      " 7   penumbra_class           8850 non-null   object        \n",
      " 8   compactness_class        8850 non-null   object        \n",
      " 9   No_of_spots              8850 non-null   object        \n",
      " 10  longitudanal_extent      8850 non-null   object        \n",
      " 11  Area                     8850 non-null   object        \n",
      " 12  Status                   8850 non-null   object        \n",
      "dtypes: datetime64[ns](1), int64(2), object(10)\n",
      "memory usage: 899.0+ KB\n"
     ]
    }
   ],
   "source": [
    "df.info()"
   ]
  },
  {
   "cell_type": "code",
   "execution_count": 13,
   "id": "d5a5df1e",
   "metadata": {},
   "outputs": [],
   "source": [
    "df = df.replace('           ', np.nan)\n",
    "df = df.replace('', np.nan)\n",
    "df = df.replace(' ', np.nan)\n",
    "df = df.replace('  ', np.nan)\n",
    "df = df.replace('   ', np.nan)\n",
    "df = df.replace('    ', np.nan)\n",
    "df = df.replace('     ', np.nan)"
   ]
  },
  {
   "cell_type": "code",
   "execution_count": 14,
   "id": "91f94365",
   "metadata": {},
   "outputs": [
    {
     "data": {
      "text/plain": [
       "Unnamed: 0                    0\n",
       "X_Ray_Class                4425\n",
       "X_Ray_Intensity            4426\n",
       "Date                          0\n",
       "magnetic_classification       2\n",
       "NOAA                          0\n",
       "zurich_class                992\n",
       "penumbra_class              992\n",
       "compactness_class          1061\n",
       "No_of_spots                 991\n",
       "longitudanal_extent        1269\n",
       "Area                       1409\n",
       "Status                        0\n",
       "dtype: int64"
      ]
     },
     "execution_count": 14,
     "metadata": {},
     "output_type": "execute_result"
    }
   ],
   "source": [
    "df.isna().sum()"
   ]
  },
  {
   "cell_type": "code",
   "execution_count": 15,
   "id": "7e51dd80",
   "metadata": {},
   "outputs": [],
   "source": [
    "df = df.drop(columns = ['X_Ray_Class', 'X_Ray_Intensity', 'Date', 'NOAA'])"
   ]
  },
  {
   "cell_type": "code",
   "execution_count": 16,
   "id": "f1ff3856",
   "metadata": {},
   "outputs": [],
   "source": [
    "df = df.drop(columns = ['Unnamed: 0'])"
   ]
  },
  {
   "cell_type": "code",
   "execution_count": 17,
   "id": "31e09368",
   "metadata": {},
   "outputs": [],
   "source": [
    "df = df.dropna()"
   ]
  },
  {
   "cell_type": "code",
   "execution_count": 18,
   "id": "a274d091",
   "metadata": {},
   "outputs": [
    {
     "data": {
      "text/plain": [
       "magnetic_classification    0\n",
       "zurich_class               0\n",
       "penumbra_class             0\n",
       "compactness_class          0\n",
       "No_of_spots                0\n",
       "longitudanal_extent        0\n",
       "Area                       0\n",
       "Status                     0\n",
       "dtype: int64"
      ]
     },
     "execution_count": 18,
     "metadata": {},
     "output_type": "execute_result"
    }
   ],
   "source": [
    "df.isna().sum()"
   ]
  },
  {
   "cell_type": "code",
   "execution_count": 19,
   "id": "8433dffc",
   "metadata": {},
   "outputs": [
    {
     "data": {
      "text/html": [
       "<div>\n",
       "<style scoped>\n",
       "    .dataframe tbody tr th:only-of-type {\n",
       "        vertical-align: middle;\n",
       "    }\n",
       "\n",
       "    .dataframe tbody tr th {\n",
       "        vertical-align: top;\n",
       "    }\n",
       "\n",
       "    .dataframe thead th {\n",
       "        text-align: right;\n",
       "    }\n",
       "</style>\n",
       "<table border=\"1\" class=\"dataframe\">\n",
       "  <thead>\n",
       "    <tr style=\"text-align: right;\">\n",
       "      <th></th>\n",
       "      <th>magnetic_classification</th>\n",
       "      <th>zurich_class</th>\n",
       "      <th>penumbra_class</th>\n",
       "      <th>compactness_class</th>\n",
       "      <th>No_of_spots</th>\n",
       "      <th>longitudanal_extent</th>\n",
       "      <th>Area</th>\n",
       "      <th>Status</th>\n",
       "    </tr>\n",
       "  </thead>\n",
       "  <tbody>\n",
       "    <tr>\n",
       "      <th>0</th>\n",
       "      <td>B</td>\n",
       "      <td>C</td>\n",
       "      <td>S</td>\n",
       "      <td>O</td>\n",
       "      <td>5</td>\n",
       "      <td>3</td>\n",
       "      <td>30</td>\n",
       "      <td>Associated</td>\n",
       "    </tr>\n",
       "    <tr>\n",
       "      <th>1</th>\n",
       "      <td>B</td>\n",
       "      <td>B</td>\n",
       "      <td>X</td>\n",
       "      <td>O</td>\n",
       "      <td>2</td>\n",
       "      <td>2</td>\n",
       "      <td>10</td>\n",
       "      <td>Associated</td>\n",
       "    </tr>\n",
       "    <tr>\n",
       "      <th>2</th>\n",
       "      <td>B</td>\n",
       "      <td>B</td>\n",
       "      <td>X</td>\n",
       "      <td>O</td>\n",
       "      <td>2</td>\n",
       "      <td>2</td>\n",
       "      <td>10</td>\n",
       "      <td>Associated</td>\n",
       "    </tr>\n",
       "    <tr>\n",
       "      <th>3</th>\n",
       "      <td>B</td>\n",
       "      <td>B</td>\n",
       "      <td>X</td>\n",
       "      <td>O</td>\n",
       "      <td>2</td>\n",
       "      <td>2</td>\n",
       "      <td>10</td>\n",
       "      <td>Associated</td>\n",
       "    </tr>\n",
       "    <tr>\n",
       "      <th>4</th>\n",
       "      <td>B</td>\n",
       "      <td>C</td>\n",
       "      <td>R</td>\n",
       "      <td>O</td>\n",
       "      <td>3</td>\n",
       "      <td>3</td>\n",
       "      <td>30</td>\n",
       "      <td>Associated</td>\n",
       "    </tr>\n",
       "  </tbody>\n",
       "</table>\n",
       "</div>"
      ],
      "text/plain": [
       "  magnetic_classification zurich_class penumbra_class compactness_class  \\\n",
       "0                     B              C              S                 O   \n",
       "1                     B              B              X                 O   \n",
       "2                     B              B              X                 O   \n",
       "3                     B              B              X                 O   \n",
       "4                     B              C              R                 O   \n",
       "\n",
       "  No_of_spots longitudanal_extent  Area      Status  \n",
       "0           5                   3    30  Associated  \n",
       "1           2                   2    10  Associated  \n",
       "2           2                   2    10  Associated  \n",
       "3           2                   2    10  Associated  \n",
       "4           3                   3    30  Associated  "
      ]
     },
     "execution_count": 19,
     "metadata": {},
     "output_type": "execute_result"
    }
   ],
   "source": [
    "df.head()"
   ]
  },
  {
   "cell_type": "code",
   "execution_count": 20,
   "id": "623e4254",
   "metadata": {},
   "outputs": [
    {
     "data": {
      "text/html": [
       "<div>\n",
       "<style scoped>\n",
       "    .dataframe tbody tr th:only-of-type {\n",
       "        vertical-align: middle;\n",
       "    }\n",
       "\n",
       "    .dataframe tbody tr th {\n",
       "        vertical-align: top;\n",
       "    }\n",
       "\n",
       "    .dataframe thead th {\n",
       "        text-align: right;\n",
       "    }\n",
       "</style>\n",
       "<table border=\"1\" class=\"dataframe\">\n",
       "  <thead>\n",
       "    <tr style=\"text-align: right;\">\n",
       "      <th></th>\n",
       "      <th>magnetic_classification</th>\n",
       "      <th>zurich_class</th>\n",
       "      <th>penumbra_class</th>\n",
       "      <th>compactness_class</th>\n",
       "      <th>No_of_spots</th>\n",
       "      <th>longitudanal_extent</th>\n",
       "      <th>Area</th>\n",
       "      <th>Status</th>\n",
       "    </tr>\n",
       "  </thead>\n",
       "  <tbody>\n",
       "    <tr>\n",
       "      <th>8845</th>\n",
       "      <td>A</td>\n",
       "      <td>A</td>\n",
       "      <td>X</td>\n",
       "      <td>X</td>\n",
       "      <td>1</td>\n",
       "      <td>0</td>\n",
       "      <td>10</td>\n",
       "      <td>Unassociated</td>\n",
       "    </tr>\n",
       "    <tr>\n",
       "      <th>8846</th>\n",
       "      <td>A</td>\n",
       "      <td>A</td>\n",
       "      <td>X</td>\n",
       "      <td>X</td>\n",
       "      <td>1</td>\n",
       "      <td>0</td>\n",
       "      <td>0</td>\n",
       "      <td>Unassociated</td>\n",
       "    </tr>\n",
       "    <tr>\n",
       "      <th>8847</th>\n",
       "      <td>A</td>\n",
       "      <td>H</td>\n",
       "      <td>S</td>\n",
       "      <td>X</td>\n",
       "      <td>1</td>\n",
       "      <td>1</td>\n",
       "      <td>10</td>\n",
       "      <td>Unassociated</td>\n",
       "    </tr>\n",
       "    <tr>\n",
       "      <th>8848</th>\n",
       "      <td>B</td>\n",
       "      <td>B</td>\n",
       "      <td>X</td>\n",
       "      <td>O</td>\n",
       "      <td>3</td>\n",
       "      <td>6</td>\n",
       "      <td>10</td>\n",
       "      <td>Unassociated</td>\n",
       "    </tr>\n",
       "    <tr>\n",
       "      <th>8849</th>\n",
       "      <td>A</td>\n",
       "      <td>A</td>\n",
       "      <td>X</td>\n",
       "      <td>X</td>\n",
       "      <td>1</td>\n",
       "      <td>0</td>\n",
       "      <td>0</td>\n",
       "      <td>Unassociated</td>\n",
       "    </tr>\n",
       "  </tbody>\n",
       "</table>\n",
       "</div>"
      ],
      "text/plain": [
       "     magnetic_classification zurich_class penumbra_class compactness_class  \\\n",
       "8845                     A              A              X                 X   \n",
       "8846                     A              A              X                 X   \n",
       "8847                     A              H              S                 X   \n",
       "8848                     B              B              X                 O   \n",
       "8849                     A              A              X                 X   \n",
       "\n",
       "     No_of_spots longitudanal_extent  Area        Status  \n",
       "8845           1                   0    10  Unassociated  \n",
       "8846           1                   0     0  Unassociated  \n",
       "8847           1                   1    10  Unassociated  \n",
       "8848           3                   6    10  Unassociated  \n",
       "8849           1                   0     0  Unassociated  "
      ]
     },
     "execution_count": 20,
     "metadata": {},
     "output_type": "execute_result"
    }
   ],
   "source": [
    "df.tail()"
   ]
  },
  {
   "cell_type": "code",
   "execution_count": 21,
   "id": "06a15d84",
   "metadata": {},
   "outputs": [],
   "source": [
    "df['No_of_spots'] = df['No_of_spots'].astype('int')\n",
    "df['longitudanal_extent'] = df['longitudanal_extent'].astype('int')\n",
    "df['Area'] = df['Area'].astype('int')\n",
    "#, 'longitudanal_extent', 'Area']"
   ]
  },
  {
   "cell_type": "code",
   "execution_count": 22,
   "id": "cf9a3fd4",
   "metadata": {},
   "outputs": [
    {
     "data": {
      "text/plain": [
       "Associated      3784\n",
       "Unassociated    3523\n",
       "Name: Status, dtype: int64"
      ]
     },
     "execution_count": 22,
     "metadata": {},
     "output_type": "execute_result"
    }
   ],
   "source": [
    "df['Status'].value_counts()"
   ]
  },
  {
   "cell_type": "code",
   "execution_count": 23,
   "id": "d1739ff4",
   "metadata": {},
   "outputs": [],
   "source": [
    "df_majority = df[df['Status'] == 'Associated']\n",
    "df_minority = df[df['Status'] == 'Unassociated']"
   ]
  },
  {
   "cell_type": "code",
   "execution_count": 24,
   "id": "14210bb9",
   "metadata": {},
   "outputs": [],
   "source": [
    "from sklearn.utils import resample\n",
    "df_upsampled = resample(df_minority,\n",
    "                        replace = True,\n",
    "                        n_samples = 3784)"
   ]
  },
  {
   "cell_type": "code",
   "execution_count": 25,
   "id": "eae4936b",
   "metadata": {},
   "outputs": [
    {
     "data": {
      "text/plain": [
       "Unassociated    3784\n",
       "Name: Status, dtype: int64"
      ]
     },
     "execution_count": 25,
     "metadata": {},
     "output_type": "execute_result"
    }
   ],
   "source": [
    "df_upsampled['Status'].value_counts()"
   ]
  },
  {
   "cell_type": "code",
   "execution_count": 26,
   "id": "b3297242",
   "metadata": {},
   "outputs": [],
   "source": [
    "sunspots = pd.concat([df_upsampled, df_majority])"
   ]
  },
  {
   "cell_type": "code",
   "execution_count": 27,
   "id": "70c1dbd8",
   "metadata": {},
   "outputs": [],
   "source": [
    "sunspots = sunspots.reset_index()"
   ]
  },
  {
   "cell_type": "code",
   "execution_count": 28,
   "id": "c6e336d5",
   "metadata": {},
   "outputs": [
    {
     "data": {
      "text/html": [
       "<div>\n",
       "<style scoped>\n",
       "    .dataframe tbody tr th:only-of-type {\n",
       "        vertical-align: middle;\n",
       "    }\n",
       "\n",
       "    .dataframe tbody tr th {\n",
       "        vertical-align: top;\n",
       "    }\n",
       "\n",
       "    .dataframe thead th {\n",
       "        text-align: right;\n",
       "    }\n",
       "</style>\n",
       "<table border=\"1\" class=\"dataframe\">\n",
       "  <thead>\n",
       "    <tr style=\"text-align: right;\">\n",
       "      <th></th>\n",
       "      <th>index</th>\n",
       "      <th>magnetic_classification</th>\n",
       "      <th>zurich_class</th>\n",
       "      <th>penumbra_class</th>\n",
       "      <th>compactness_class</th>\n",
       "      <th>No_of_spots</th>\n",
       "      <th>longitudanal_extent</th>\n",
       "      <th>Area</th>\n",
       "      <th>Status</th>\n",
       "    </tr>\n",
       "  </thead>\n",
       "  <tbody>\n",
       "    <tr>\n",
       "      <th>0</th>\n",
       "      <td>7651</td>\n",
       "      <td>A</td>\n",
       "      <td>H</td>\n",
       "      <td>R</td>\n",
       "      <td>X</td>\n",
       "      <td>1</td>\n",
       "      <td>1</td>\n",
       "      <td>30</td>\n",
       "      <td>Unassociated</td>\n",
       "    </tr>\n",
       "    <tr>\n",
       "      <th>1</th>\n",
       "      <td>5265</td>\n",
       "      <td>B</td>\n",
       "      <td>C</td>\n",
       "      <td>R</td>\n",
       "      <td>O</td>\n",
       "      <td>2</td>\n",
       "      <td>3</td>\n",
       "      <td>10</td>\n",
       "      <td>Unassociated</td>\n",
       "    </tr>\n",
       "    <tr>\n",
       "      <th>2</th>\n",
       "      <td>7992</td>\n",
       "      <td>B</td>\n",
       "      <td>C</td>\n",
       "      <td>R</td>\n",
       "      <td>O</td>\n",
       "      <td>5</td>\n",
       "      <td>10</td>\n",
       "      <td>20</td>\n",
       "      <td>Unassociated</td>\n",
       "    </tr>\n",
       "    <tr>\n",
       "      <th>3</th>\n",
       "      <td>8381</td>\n",
       "      <td>B</td>\n",
       "      <td>C</td>\n",
       "      <td>A</td>\n",
       "      <td>O</td>\n",
       "      <td>2</td>\n",
       "      <td>10</td>\n",
       "      <td>30</td>\n",
       "      <td>Unassociated</td>\n",
       "    </tr>\n",
       "    <tr>\n",
       "      <th>4</th>\n",
       "      <td>5493</td>\n",
       "      <td>B</td>\n",
       "      <td>E</td>\n",
       "      <td>S</td>\n",
       "      <td>O</td>\n",
       "      <td>5</td>\n",
       "      <td>12</td>\n",
       "      <td>120</td>\n",
       "      <td>Unassociated</td>\n",
       "    </tr>\n",
       "  </tbody>\n",
       "</table>\n",
       "</div>"
      ],
      "text/plain": [
       "   index magnetic_classification zurich_class penumbra_class  \\\n",
       "0   7651                     A              H              R   \n",
       "1   5265                     B              C              R   \n",
       "2   7992                     B              C              R   \n",
       "3   8381                     B              C              A   \n",
       "4   5493                     B              E              S   \n",
       "\n",
       "  compactness_class  No_of_spots  longitudanal_extent  Area        Status  \n",
       "0                 X            1                    1    30  Unassociated  \n",
       "1                 O            2                    3    10  Unassociated  \n",
       "2                 O            5                   10    20  Unassociated  \n",
       "3                 O            2                   10    30  Unassociated  \n",
       "4                 O            5                   12   120  Unassociated  "
      ]
     },
     "execution_count": 28,
     "metadata": {},
     "output_type": "execute_result"
    }
   ],
   "source": [
    "sunspots.head()"
   ]
  },
  {
   "cell_type": "code",
   "execution_count": 29,
   "id": "c0c3d780",
   "metadata": {},
   "outputs": [],
   "source": [
    "sunspots.drop(columns= ['index'], inplace= True )"
   ]
  },
  {
   "cell_type": "code",
   "execution_count": 30,
   "id": "8dad66fa",
   "metadata": {},
   "outputs": [],
   "source": [
    "sunspots.to_excel('sunspots_cleaned.xlsx')"
   ]
  },
  {
   "cell_type": "code",
   "execution_count": null,
   "id": "9c90886d",
   "metadata": {},
   "outputs": [],
   "source": []
  }
 ],
 "metadata": {
  "kernelspec": {
   "display_name": "Python 3",
   "language": "python",
   "name": "python3"
  },
  "language_info": {
   "codemirror_mode": {
    "name": "ipython",
    "version": 3
   },
   "file_extension": ".py",
   "mimetype": "text/x-python",
   "name": "python",
   "nbconvert_exporter": "python",
   "pygments_lexer": "ipython3",
   "version": "3.8.8"
  }
 },
 "nbformat": 4,
 "nbformat_minor": 5
}

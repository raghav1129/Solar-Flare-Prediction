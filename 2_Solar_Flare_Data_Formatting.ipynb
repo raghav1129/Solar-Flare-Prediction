{
  "nbformat": 4,
  "nbformat_minor": 0,
  "metadata": {
    "colab": {
      "name": "Solar Flare Data Formatting.ipynb",
      "provenance": [],
      "collapsed_sections": []
    },
    "kernelspec": {
      "name": "python3",
      "display_name": "Python 3"
    },
    "language_info": {
      "name": "python"
    }
  },
  "cells": [
    {
      "cell_type": "code",
      "metadata": {
        "id": "bATsh8LPHTb7"
      },
      "source": [
        "import pandas as pd\n",
        "import numpy as np\n"
      ],
      "execution_count": null,
      "outputs": []
    },
    {
      "cell_type": "code",
      "metadata": {
        "id": "RhntA9i9ICkW"
      },
      "source": [
        "df = pd.read_csv('/content/goes-xrs-report_2016.txt')"
      ],
      "execution_count": null,
      "outputs": []
    },
    {
      "cell_type": "code",
      "metadata": {
        "id": "jpseUIsOHVsb"
      },
      "source": [
        "#Code to process each dataset one by one\n",
        "row_list = []\n",
        "for i in range(len(df)):\n",
        "    a=df.iloc[i,0]\n",
        "    dict1 = {}\n",
        "\n",
        "    word = [char for char in a]\n",
        "\n",
        "    Code = {'Code' : ''.join(word[0:2])}\n",
        "    dict1.update(Code)\n",
        "\n",
        "    Goes_Station_Code = {'Goes_Station_Code' : ''.join(word[2:5])}\n",
        "    dict1.update(Goes_Station_Code)\n",
        "\n",
        "    Year = {'Year' : ''.join(word[5:7])}\n",
        "    dict1.update(Year)\n",
        "\n",
        "    Month = {'Month' : ''.join(word[7:9])}\n",
        "    dict1.update(Month)\n",
        "\n",
        "    Day = {'Day' : ''.join(word[9:11])}\n",
        "    dict1.update(Day)\n",
        "\n",
        "    Start_Time = {'Start_Time' : ''.join(word[13:17])}\n",
        "    dict1.update(Start_Time)\n",
        "\n",
        "    End_Time = {'End_Time' : ''.join(word[18:22])}\n",
        "    dict1.update(End_Time)\n",
        "\n",
        "    Max_Time = {'Max_Time' : ''.join(word[23:27])}\n",
        "    dict1.update(Max_Time)\n",
        "\n",
        "    latitude = {'latitude' : ''.join(word[28:34])}\n",
        "    dict1.update(latitude)\n",
        "\n",
        "    SXI = {'SXI' : ''.join(word[34:37])}\n",
        "    dict1.update(SXI)\n",
        "\n",
        "    X_Ray_Class = {'X_Ray_Class' : ''.join(word[59:60])}\n",
        "    dict1.update(X_Ray_Class)\n",
        "\n",
        "    X_Ray_Intensity = {'X_Ray_Intensity' : ''.join(word[61:63])}\n",
        "    dict1.update(X_Ray_Intensity)\n",
        "\n",
        "    Station_Code = {'Station_Code' : ''.join(word[67:71])}\n",
        "    dict1.update(Station_Code)\n",
        "\n",
        "    Integrated_Flux = {'Integrated_Flux' : ''.join(word[72:80])}\n",
        "    dict1.update(Integrated_Flux)\n",
        "\n",
        "    NOAA_Number = {'NOAA_Number' : ''.join(word[80:85])}\n",
        "    dict1.update(NOAA_Number)\n",
        "\n",
        "    CMP_Year = {'CMP_Year' : ''.join(word[86:88])}\n",
        "    dict1.update(CMP_Year)\n",
        "\n",
        "    CMP_Month = {'CMP_Month' : ''.join(word[88:90])}\n",
        "    dict1.update(CMP_Month)\n",
        "\n",
        "    CMP_Day = {'CMP_Day' : ''.join(word[90:94])}\n",
        "    dict1.update(CMP_Day)\n",
        "\n",
        "    Total_Region_Area = {'Total_Region_Area' : ''.join(word[95:102])}\n",
        "    dict1.update(Total_Region_Area)\n",
        "\n",
        "    Total_Intensity = {'Total_Intensity' : ''.join(word[103:110])}\n",
        "    dict1.update(Total_Intensity)\n",
        "\n",
        "\n",
        "    \n",
        "    row_list.append(dict1)\n",
        "    \n",
        "    "
      ],
      "execution_count": null,
      "outputs": []
    },
    {
      "cell_type": "code",
      "metadata": {
        "id": "qVDHwKYOoeQ_"
      },
      "source": [
        "solarflare_1996 = pd.DataFrame(row_list) "
      ],
      "execution_count": null,
      "outputs": []
    },
    {
      "cell_type": "code",
      "metadata": {
        "id": "3W8sZnMgoeJb"
      },
      "source": [
        "solarflare_1997 = pd.DataFrame(row_list) "
      ],
      "execution_count": null,
      "outputs": []
    },
    {
      "cell_type": "code",
      "metadata": {
        "id": "9LDM9xPCoeBJ"
      },
      "source": [
        "solarflare_1998 = pd.DataFrame(row_list) "
      ],
      "execution_count": null,
      "outputs": []
    },
    {
      "cell_type": "code",
      "metadata": {
        "id": "Tmme_tVWod65"
      },
      "source": [
        "solarflare_1999 = pd.DataFrame(row_list) "
      ],
      "execution_count": null,
      "outputs": []
    },
    {
      "cell_type": "code",
      "metadata": {
        "id": "J-ZMrrO_JgLZ"
      },
      "source": [
        "solarflare_2000 = pd.DataFrame(row_list) "
      ],
      "execution_count": null,
      "outputs": []
    },
    {
      "cell_type": "code",
      "metadata": {
        "id": "yyu8XfXXJgEn"
      },
      "source": [
        "solarflare_2001 = pd.DataFrame(row_list) "
      ],
      "execution_count": null,
      "outputs": []
    },
    {
      "cell_type": "code",
      "metadata": {
        "id": "9IeGc5VkJf80"
      },
      "source": [
        "solarflare_2002 = pd.DataFrame(row_list) "
      ],
      "execution_count": null,
      "outputs": []
    },
    {
      "cell_type": "code",
      "metadata": {
        "id": "sjYFq0BFJfzr"
      },
      "source": [
        "solarflare_2003 = pd.DataFrame(row_list) "
      ],
      "execution_count": null,
      "outputs": []
    },
    {
      "cell_type": "code",
      "metadata": {
        "id": "rOWq6nYbJfrW"
      },
      "source": [
        "solarflare_2004 = pd.DataFrame(row_list) "
      ],
      "execution_count": null,
      "outputs": []
    },
    {
      "cell_type": "code",
      "metadata": {
        "id": "X_R7ZZ8aJfjM"
      },
      "source": [
        "solarflare_2005 = pd.DataFrame(row_list) "
      ],
      "execution_count": null,
      "outputs": []
    },
    {
      "cell_type": "code",
      "metadata": {
        "id": "KVzWCjk2JfZr"
      },
      "source": [
        "solarflare_2006 = pd.DataFrame(row_list) "
      ],
      "execution_count": null,
      "outputs": []
    },
    {
      "cell_type": "code",
      "metadata": {
        "id": "czsUGqFCJfQs"
      },
      "source": [
        "solarflare_2007 = pd.DataFrame(row_list) "
      ],
      "execution_count": null,
      "outputs": []
    },
    {
      "cell_type": "code",
      "metadata": {
        "id": "NOlsUXoaJfJP"
      },
      "source": [
        "solarflare_2008 = pd.DataFrame(row_list) "
      ],
      "execution_count": null,
      "outputs": []
    },
    {
      "cell_type": "code",
      "metadata": {
        "id": "wXxs9T2eJfBj"
      },
      "source": [
        "solarflare_2009 = pd.DataFrame(row_list) "
      ],
      "execution_count": null,
      "outputs": []
    },
    {
      "cell_type": "code",
      "metadata": {
        "id": "2ReFsBBMJeqU"
      },
      "source": [
        "solarflare_2010 = pd.DataFrame(row_list) "
      ],
      "execution_count": null,
      "outputs": []
    },
    {
      "cell_type": "code",
      "metadata": {
        "id": "LipOM0uPIBHU"
      },
      "source": [
        "solarflare_2011 = pd.DataFrame(row_list) "
      ],
      "execution_count": null,
      "outputs": []
    },
    {
      "cell_type": "code",
      "metadata": {
        "id": "jMFlbYkpIPXy"
      },
      "source": [
        "solarflare_2012 = pd.DataFrame(row_list) "
      ],
      "execution_count": null,
      "outputs": []
    },
    {
      "cell_type": "code",
      "metadata": {
        "id": "J0oGHvQdIRSj"
      },
      "source": [
        "solarflare_2013 = pd.DataFrame(row_list) "
      ],
      "execution_count": null,
      "outputs": []
    },
    {
      "cell_type": "code",
      "metadata": {
        "id": "27oc5797IRji"
      },
      "source": [
        "solarflare_2014 = pd.DataFrame(row_list) "
      ],
      "execution_count": null,
      "outputs": []
    },
    {
      "cell_type": "code",
      "metadata": {
        "id": "O-G7FcPiIR2K"
      },
      "source": [
        "solarflare_2015 = pd.DataFrame(row_list) "
      ],
      "execution_count": null,
      "outputs": []
    },
    {
      "cell_type": "code",
      "metadata": {
        "id": "tfPBrMZeISOI"
      },
      "source": [
        "solarflare_2016 = pd.DataFrame(row_list) "
      ],
      "execution_count": null,
      "outputs": []
    },
    {
      "cell_type": "code",
      "metadata": {
        "id": "ChU9c2OXouJh"
      },
      "source": [
        "#Merge datasets \n",
        "frames2 = [solarflare_1996, solarflare_1997, solarflare_1998, solarflare_1999]\n",
        "solarflares_1990 = pd.concat(frames2)"
      ],
      "execution_count": null,
      "outputs": []
    },
    {
      "cell_type": "code",
      "metadata": {
        "id": "vOxmBl18o2jN"
      },
      "source": [
        "#Drop unneccesary columns\n",
        "solarflares_1990= solarflares_1990.replace('', np.nan)\n",
        "solarflares_1990.drop(columns= ['latitude','Code', 'Goes_Station_Code', 'End_Time', 'Max_Time','SXI','Station_Code','CMP_Year', 'CMP_Month', 'CMP_Day', 'Total_Region_Area', 'Total_Intensity'], inplace = True)"
      ],
      "execution_count": null,
      "outputs": []
    },
    {
      "cell_type": "code",
      "metadata": {
        "id": "vmnFl0Iyo2eU"
      },
      "source": [
        "#Convert data column \n",
        "solarflares_1990['Year'] = solarflares_1990['Year'].astype('int') +1900\n",
        "solarflares_1990['Date'] = solarflares_1990[\"Year\"].astype('str') +  solarflares_1990[\"Month\"].astype('str') + solarflares_1990[\"Day\"].astype('str') + solarflares_1990['Start_Time']\n",
        "\n",
        "solarflares_1990.drop(columns = ['Year', 'Month', 'Day', 'Start_Time'], inplace = True)\n",
        "solarflares_1990['Date'] = pd.to_datetime(solarflares_1990['Date'], format='%Y%m%d%H%M%S')"
      ],
      "execution_count": null,
      "outputs": []
    },
    {
      "cell_type": "code",
      "metadata": {
        "id": "s1j068egpl57"
      },
      "source": [
        "solarflares_1990= solarflares_1990.replace('        ', np.nan)"
      ],
      "execution_count": null,
      "outputs": []
    },
    {
      "cell_type": "code",
      "metadata": {
        "colab": {
          "base_uri": "https://localhost:8080/",
          "height": 424
        },
        "id": "05aAncdXo2hG",
        "outputId": "a3e4b0bf-7ac3-409b-ffa3-aff22bd99776"
      },
      "source": [
        "solarflares_1990"
      ],
      "execution_count": null,
      "outputs": [
        {
          "output_type": "execute_result",
          "data": {
            "text/html": [
              "<div>\n",
              "<style scoped>\n",
              "    .dataframe tbody tr th:only-of-type {\n",
              "        vertical-align: middle;\n",
              "    }\n",
              "\n",
              "    .dataframe tbody tr th {\n",
              "        vertical-align: top;\n",
              "    }\n",
              "\n",
              "    .dataframe thead th {\n",
              "        text-align: right;\n",
              "    }\n",
              "</style>\n",
              "<table border=\"1\" class=\"dataframe\">\n",
              "  <thead>\n",
              "    <tr style=\"text-align: right;\">\n",
              "      <th></th>\n",
              "      <th>X_Ray_Class</th>\n",
              "      <th>X_Ray_Intensity</th>\n",
              "      <th>Integrated_Flux</th>\n",
              "      <th>NOAA_Number</th>\n",
              "      <th>Date</th>\n",
              "    </tr>\n",
              "  </thead>\n",
              "  <tbody>\n",
              "    <tr>\n",
              "      <th>0</th>\n",
              "      <td>B</td>\n",
              "      <td>10</td>\n",
              "      <td>NaN</td>\n",
              "      <td></td>\n",
              "      <td>1996-01-03 11:00:07</td>\n",
              "    </tr>\n",
              "    <tr>\n",
              "      <th>1</th>\n",
              "      <td>B</td>\n",
              "      <td>36</td>\n",
              "      <td>NaN</td>\n",
              "      <td></td>\n",
              "      <td>1996-01-03 12:01:02</td>\n",
              "    </tr>\n",
              "    <tr>\n",
              "      <th>2</th>\n",
              "      <td>B</td>\n",
              "      <td>60</td>\n",
              "      <td>NaN</td>\n",
              "      <td></td>\n",
              "      <td>1996-01-03 13:03:04</td>\n",
              "    </tr>\n",
              "    <tr>\n",
              "      <th>3</th>\n",
              "      <td>B</td>\n",
              "      <td>28</td>\n",
              "      <td>NaN</td>\n",
              "      <td></td>\n",
              "      <td>1996-01-03 14:00:05</td>\n",
              "    </tr>\n",
              "    <tr>\n",
              "      <th>4</th>\n",
              "      <td>B</td>\n",
              "      <td>45</td>\n",
              "      <td>NaN</td>\n",
              "      <td></td>\n",
              "      <td>1996-01-03 14:03:08</td>\n",
              "    </tr>\n",
              "    <tr>\n",
              "      <th>...</th>\n",
              "      <td>...</td>\n",
              "      <td>...</td>\n",
              "      <td>...</td>\n",
              "      <td>...</td>\n",
              "      <td>...</td>\n",
              "    </tr>\n",
              "    <tr>\n",
              "      <th>2419</th>\n",
              "      <td>C</td>\n",
              "      <td>10</td>\n",
              "      <td>3.3E-04</td>\n",
              "      <td>8810</td>\n",
              "      <td>1999-12-30 06:03:02</td>\n",
              "    </tr>\n",
              "    <tr>\n",
              "      <th>2420</th>\n",
              "      <td>B</td>\n",
              "      <td>84</td>\n",
              "      <td>2.3E-04</td>\n",
              "      <td></td>\n",
              "      <td>1999-12-30 13:00:05</td>\n",
              "    </tr>\n",
              "    <tr>\n",
              "      <th>2421</th>\n",
              "      <td>C</td>\n",
              "      <td>24</td>\n",
              "      <td>3.0E-03</td>\n",
              "      <td></td>\n",
              "      <td>1999-12-30 22:04:07</td>\n",
              "    </tr>\n",
              "    <tr>\n",
              "      <th>2422</th>\n",
              "      <td>C</td>\n",
              "      <td>19</td>\n",
              "      <td>2.6E-03</td>\n",
              "      <td></td>\n",
              "      <td>1999-12-31 16:02:08</td>\n",
              "    </tr>\n",
              "    <tr>\n",
              "      <th>2423</th>\n",
              "      <td>C</td>\n",
              "      <td>27</td>\n",
              "      <td>3.9E-03</td>\n",
              "      <td></td>\n",
              "      <td>1999-12-31 18:04:00</td>\n",
              "    </tr>\n",
              "  </tbody>\n",
              "</table>\n",
              "<p>6325 rows × 5 columns</p>\n",
              "</div>"
            ],
            "text/plain": [
              "     X_Ray_Class X_Ray_Intensity  ... NOAA_Number                Date\n",
              "0              B              10  ...             1996-01-03 11:00:07\n",
              "1              B              36  ...             1996-01-03 12:01:02\n",
              "2              B              60  ...             1996-01-03 13:03:04\n",
              "3              B              28  ...             1996-01-03 14:00:05\n",
              "4              B              45  ...             1996-01-03 14:03:08\n",
              "...          ...             ...  ...         ...                 ...\n",
              "2419           C              10  ...        8810 1999-12-30 06:03:02\n",
              "2420           B              84  ...             1999-12-30 13:00:05\n",
              "2421           C              24  ...             1999-12-30 22:04:07\n",
              "2422           C              19  ...             1999-12-31 16:02:08\n",
              "2423           C              27  ...             1999-12-31 18:04:00\n",
              "\n",
              "[6325 rows x 5 columns]"
            ]
          },
          "metadata": {
            "tags": []
          },
          "execution_count": 80
        }
      ]
    },
    {
      "cell_type": "code",
      "metadata": {
        "id": "Vm-Qq87hpQID"
      },
      "source": [
        ""
      ],
      "execution_count": null,
      "outputs": []
    },
    {
      "cell_type": "code",
      "metadata": {
        "id": "KY2oCrglIlD7"
      },
      "source": [
        "#merge datasets\n",
        "frames = [solarflare_2000, solarflare_2001, solarflare_2002, solarflare_2003,\n",
        "          solarflare_2004, solarflare_2005, solarflare_2006, solarflare_2007,\n",
        "          solarflare_2008, solarflare_2009, solarflare_2010,\n",
        "          solarflare_2011, solarflare_2012, solarflare_2013, solarflare_2014, solarflare_2015, solarflare_2016]"
      ],
      "execution_count": null,
      "outputs": []
    },
    {
      "cell_type": "code",
      "metadata": {
        "id": "FgNrkwq9LCx9"
      },
      "source": [
        "solarflares = pd.concat(frames)"
      ],
      "execution_count": null,
      "outputs": []
    },
    {
      "cell_type": "code",
      "metadata": {
        "colab": {
          "base_uri": "https://localhost:8080/"
        },
        "id": "MaVVb65ULEBL",
        "outputId": "02d59fd8-2d95-485d-e9ea-3ccd882efe97"
      },
      "source": [
        "solarflares.info()"
      ],
      "execution_count": null,
      "outputs": [
        {
          "output_type": "stream",
          "text": [
            "<class 'pandas.core.frame.DataFrame'>\n",
            "Int64Index: 30203 entries, 0 to 1192\n",
            "Data columns (total 20 columns):\n",
            " #   Column             Non-Null Count  Dtype \n",
            "---  ------             --------------  ----- \n",
            " 0   Code               30203 non-null  object\n",
            " 1   Goes_Station_Code  30203 non-null  object\n",
            " 2   Year               30203 non-null  object\n",
            " 3   Month              30203 non-null  object\n",
            " 4   Day                30203 non-null  object\n",
            " 5   Start_Time         30203 non-null  object\n",
            " 6   End_Time           30203 non-null  object\n",
            " 7   Max_Time           30203 non-null  object\n",
            " 8   latitude           30203 non-null  object\n",
            " 9   SXI                30203 non-null  object\n",
            " 10  X_Ray_Class        30203 non-null  object\n",
            " 11  X_Ray_Intensity    30203 non-null  object\n",
            " 12  Station_Code       30203 non-null  object\n",
            " 13  Integrated_Flux    30203 non-null  object\n",
            " 14  NOAA_Number        30203 non-null  object\n",
            " 15  CMP_Year           30203 non-null  object\n",
            " 16  CMP_Month          30203 non-null  object\n",
            " 17  CMP_Day            30203 non-null  object\n",
            " 18  Total_Region_Area  30203 non-null  object\n",
            " 19  Total_Intensity    30203 non-null  object\n",
            "dtypes: object(20)\n",
            "memory usage: 4.8+ MB\n"
          ],
          "name": "stdout"
        }
      ]
    },
    {
      "cell_type": "code",
      "metadata": {
        "id": "fzk4m6OncEfg"
      },
      "source": [
        "solarflares= solarflares.replace('', np.nan)"
      ],
      "execution_count": null,
      "outputs": []
    },
    {
      "cell_type": "code",
      "metadata": {
        "colab": {
          "base_uri": "https://localhost:8080/",
          "height": 444
        },
        "id": "uqB4dWvack5H",
        "outputId": "9350d8e6-13f8-43fa-e1d8-03986fdafe52"
      },
      "source": [
        "solarflares"
      ],
      "execution_count": null,
      "outputs": [
        {
          "output_type": "execute_result",
          "data": {
            "text/html": [
              "<div>\n",
              "<style scoped>\n",
              "    .dataframe tbody tr th:only-of-type {\n",
              "        vertical-align: middle;\n",
              "    }\n",
              "\n",
              "    .dataframe tbody tr th {\n",
              "        vertical-align: top;\n",
              "    }\n",
              "\n",
              "    .dataframe thead th {\n",
              "        text-align: right;\n",
              "    }\n",
              "</style>\n",
              "<table border=\"1\" class=\"dataframe\">\n",
              "  <thead>\n",
              "    <tr style=\"text-align: right;\">\n",
              "      <th></th>\n",
              "      <th>Code</th>\n",
              "      <th>Goes_Station_Code</th>\n",
              "      <th>Year</th>\n",
              "      <th>Month</th>\n",
              "      <th>Day</th>\n",
              "      <th>Start_Time</th>\n",
              "      <th>End_Time</th>\n",
              "      <th>Max_Time</th>\n",
              "      <th>latitude</th>\n",
              "      <th>SXI</th>\n",
              "      <th>X_Ray_Class</th>\n",
              "      <th>X_Ray_Intensity</th>\n",
              "      <th>Station_Code</th>\n",
              "      <th>Integrated_Flux</th>\n",
              "      <th>NOAA_Number</th>\n",
              "      <th>CMP_Year</th>\n",
              "      <th>CMP_Month</th>\n",
              "      <th>CMP_Day</th>\n",
              "      <th>Total_Region_Area</th>\n",
              "      <th>Total_Intensity</th>\n",
              "    </tr>\n",
              "  </thead>\n",
              "  <tbody>\n",
              "    <tr>\n",
              "      <th>0</th>\n",
              "      <td>31</td>\n",
              "      <td>777</td>\n",
              "      <td>00</td>\n",
              "      <td>01</td>\n",
              "      <td>01</td>\n",
              "      <td>0106</td>\n",
              "      <td>0134</td>\n",
              "      <td>0120</td>\n",
              "      <td></td>\n",
              "      <td></td>\n",
              "      <td>C</td>\n",
              "      <td>31</td>\n",
              "      <td>GOES</td>\n",
              "      <td>4.2E-03</td>\n",
              "      <td></td>\n",
              "      <td></td>\n",
              "      <td></td>\n",
              "      <td></td>\n",
              "      <td></td>\n",
              "      <td>NaN</td>\n",
              "    </tr>\n",
              "    <tr>\n",
              "      <th>1</th>\n",
              "      <td>31</td>\n",
              "      <td>777</td>\n",
              "      <td>00</td>\n",
              "      <td>01</td>\n",
              "      <td>01</td>\n",
              "      <td>2013</td>\n",
              "      <td>2020</td>\n",
              "      <td>2016</td>\n",
              "      <td>N11E32</td>\n",
              "      <td>SF</td>\n",
              "      <td>B</td>\n",
              "      <td>80</td>\n",
              "      <td>GOES</td>\n",
              "      <td>2.8E-04</td>\n",
              "      <td>8814</td>\n",
              "      <td></td>\n",
              "      <td></td>\n",
              "      <td></td>\n",
              "      <td></td>\n",
              "      <td>NaN</td>\n",
              "    </tr>\n",
              "    <tr>\n",
              "      <th>2</th>\n",
              "      <td>31</td>\n",
              "      <td>777</td>\n",
              "      <td>00</td>\n",
              "      <td>01</td>\n",
              "      <td>01</td>\n",
              "      <td>2245</td>\n",
              "      <td>2300</td>\n",
              "      <td>2251</td>\n",
              "      <td></td>\n",
              "      <td></td>\n",
              "      <td>C</td>\n",
              "      <td>12</td>\n",
              "      <td>GOES</td>\n",
              "      <td>9.3E-04</td>\n",
              "      <td></td>\n",
              "      <td></td>\n",
              "      <td></td>\n",
              "      <td></td>\n",
              "      <td></td>\n",
              "      <td>NaN</td>\n",
              "    </tr>\n",
              "    <tr>\n",
              "      <th>3</th>\n",
              "      <td>31</td>\n",
              "      <td>777</td>\n",
              "      <td>00</td>\n",
              "      <td>01</td>\n",
              "      <td>02</td>\n",
              "      <td>2220</td>\n",
              "      <td>2237</td>\n",
              "      <td>2227</td>\n",
              "      <td>S15E03</td>\n",
              "      <td>SF</td>\n",
              "      <td>C</td>\n",
              "      <td>51</td>\n",
              "      <td>GOES</td>\n",
              "      <td>3.3E-03</td>\n",
              "      <td>8813</td>\n",
              "      <td></td>\n",
              "      <td></td>\n",
              "      <td></td>\n",
              "      <td></td>\n",
              "      <td>NaN</td>\n",
              "    </tr>\n",
              "    <tr>\n",
              "      <th>4</th>\n",
              "      <td>31</td>\n",
              "      <td>777</td>\n",
              "      <td>00</td>\n",
              "      <td>01</td>\n",
              "      <td>03</td>\n",
              "      <td>0413</td>\n",
              "      <td>0436</td>\n",
              "      <td>0421</td>\n",
              "      <td>N08E34</td>\n",
              "      <td>SF</td>\n",
              "      <td>C</td>\n",
              "      <td>13</td>\n",
              "      <td>GOES</td>\n",
              "      <td>1.5E-03</td>\n",
              "      <td>8815</td>\n",
              "      <td></td>\n",
              "      <td></td>\n",
              "      <td></td>\n",
              "      <td></td>\n",
              "      <td>NaN</td>\n",
              "    </tr>\n",
              "    <tr>\n",
              "      <th>...</th>\n",
              "      <td>...</td>\n",
              "      <td>...</td>\n",
              "      <td>...</td>\n",
              "      <td>...</td>\n",
              "      <td>...</td>\n",
              "      <td>...</td>\n",
              "      <td>...</td>\n",
              "      <td>...</td>\n",
              "      <td>...</td>\n",
              "      <td>...</td>\n",
              "      <td>...</td>\n",
              "      <td>...</td>\n",
              "      <td>...</td>\n",
              "      <td>...</td>\n",
              "      <td>...</td>\n",
              "      <td>...</td>\n",
              "      <td>...</td>\n",
              "      <td>...</td>\n",
              "      <td>...</td>\n",
              "      <td>...</td>\n",
              "    </tr>\n",
              "    <tr>\n",
              "      <th>1188</th>\n",
              "      <td>31</td>\n",
              "      <td>777</td>\n",
              "      <td>16</td>\n",
              "      <td>12</td>\n",
              "      <td>29</td>\n",
              "      <td>2011</td>\n",
              "      <td>2020</td>\n",
              "      <td>2015</td>\n",
              "      <td></td>\n",
              "      <td></td>\n",
              "      <td>B</td>\n",
              "      <td>13</td>\n",
              "      <td>G15</td>\n",
              "      <td>4.9E-05</td>\n",
              "      <td></td>\n",
              "      <td></td>\n",
              "      <td></td>\n",
              "      <td></td>\n",
              "      <td></td>\n",
              "      <td></td>\n",
              "    </tr>\n",
              "    <tr>\n",
              "      <th>1189</th>\n",
              "      <td>31</td>\n",
              "      <td>777</td>\n",
              "      <td>16</td>\n",
              "      <td>12</td>\n",
              "      <td>30</td>\n",
              "      <td>0130</td>\n",
              "      <td>0136</td>\n",
              "      <td>0133</td>\n",
              "      <td></td>\n",
              "      <td></td>\n",
              "      <td>B</td>\n",
              "      <td>10</td>\n",
              "      <td>G15</td>\n",
              "      <td>2.2E-05</td>\n",
              "      <td></td>\n",
              "      <td></td>\n",
              "      <td></td>\n",
              "      <td></td>\n",
              "      <td></td>\n",
              "      <td></td>\n",
              "    </tr>\n",
              "    <tr>\n",
              "      <th>1190</th>\n",
              "      <td>31</td>\n",
              "      <td>777</td>\n",
              "      <td>16</td>\n",
              "      <td>12</td>\n",
              "      <td>30</td>\n",
              "      <td>1222</td>\n",
              "      <td>1239</td>\n",
              "      <td>1229</td>\n",
              "      <td></td>\n",
              "      <td></td>\n",
              "      <td>B</td>\n",
              "      <td>22</td>\n",
              "      <td>G15</td>\n",
              "      <td>1.7E-04</td>\n",
              "      <td></td>\n",
              "      <td></td>\n",
              "      <td></td>\n",
              "      <td></td>\n",
              "      <td></td>\n",
              "      <td></td>\n",
              "    </tr>\n",
              "    <tr>\n",
              "      <th>1191</th>\n",
              "      <td>31</td>\n",
              "      <td>777</td>\n",
              "      <td>16</td>\n",
              "      <td>12</td>\n",
              "      <td>31</td>\n",
              "      <td>0132</td>\n",
              "      <td>0417</td>\n",
              "      <td>0350</td>\n",
              "      <td></td>\n",
              "      <td></td>\n",
              "      <td>B</td>\n",
              "      <td>23</td>\n",
              "      <td>G15</td>\n",
              "      <td>2.1E-03</td>\n",
              "      <td></td>\n",
              "      <td></td>\n",
              "      <td></td>\n",
              "      <td></td>\n",
              "      <td></td>\n",
              "      <td></td>\n",
              "    </tr>\n",
              "    <tr>\n",
              "      <th>1192</th>\n",
              "      <td>31</td>\n",
              "      <td>777</td>\n",
              "      <td>16</td>\n",
              "      <td>12</td>\n",
              "      <td>31</td>\n",
              "      <td>0738</td>\n",
              "      <td>0836</td>\n",
              "      <td>0812</td>\n",
              "      <td></td>\n",
              "      <td></td>\n",
              "      <td>B</td>\n",
              "      <td>18</td>\n",
              "      <td>G15</td>\n",
              "      <td>4.9E-04</td>\n",
              "      <td></td>\n",
              "      <td></td>\n",
              "      <td></td>\n",
              "      <td></td>\n",
              "      <td></td>\n",
              "      <td></td>\n",
              "    </tr>\n",
              "  </tbody>\n",
              "</table>\n",
              "<p>30203 rows × 20 columns</p>\n",
              "</div>"
            ],
            "text/plain": [
              "     Code Goes_Station_Code Year  ... CMP_Day Total_Region_Area Total_Intensity\n",
              "0      31               777   00  ...                                       NaN\n",
              "1      31               777   00  ...                                       NaN\n",
              "2      31               777   00  ...                                       NaN\n",
              "3      31               777   00  ...                                       NaN\n",
              "4      31               777   00  ...                                       NaN\n",
              "...   ...               ...  ...  ...     ...               ...             ...\n",
              "1188   31               777   16  ...                                          \n",
              "1189   31               777   16  ...                                          \n",
              "1190   31               777   16  ...                                          \n",
              "1191   31               777   16  ...                                          \n",
              "1192   31               777   16  ...                                          \n",
              "\n",
              "[30203 rows x 20 columns]"
            ]
          },
          "metadata": {
            "tags": []
          },
          "execution_count": 85
        }
      ]
    },
    {
      "cell_type": "code",
      "metadata": {
        "colab": {
          "base_uri": "https://localhost:8080/"
        },
        "id": "UmYymKwGcEOM",
        "outputId": "799cf4fa-67d7-41ac-ca78-ecf4cdf79df3"
      },
      "source": [
        "solarflares.isna().sum()"
      ],
      "execution_count": null,
      "outputs": [
        {
          "output_type": "execute_result",
          "data": {
            "text/plain": [
              "Code                     0\n",
              "Goes_Station_Code        6\n",
              "Year                     6\n",
              "Month                    6\n",
              "Day                      6\n",
              "Start_Time               6\n",
              "End_Time                 6\n",
              "Max_Time                 6\n",
              "latitude                 6\n",
              "SXI                      6\n",
              "X_Ray_Class              6\n",
              "X_Ray_Intensity          6\n",
              "Station_Code             6\n",
              "Integrated_Flux          8\n",
              "NOAA_Number           3343\n",
              "CMP_Year             12370\n",
              "CMP_Month            12370\n",
              "CMP_Day              12378\n",
              "Total_Region_Area    12410\n",
              "Total_Intensity      15728\n",
              "dtype: int64"
            ]
          },
          "metadata": {
            "tags": []
          },
          "execution_count": 86
        }
      ]
    },
    {
      "cell_type": "code",
      "metadata": {
        "id": "0Og7siVIdAar"
      },
      "source": [
        "solarflares.drop(columns= ['latitude','Code', 'Goes_Station_Code', 'End_Time', 'Max_Time','SXI','Station_Code','CMP_Year', 'CMP_Month', 'CMP_Day', 'Total_Region_Area', 'Total_Intensity'], inplace = True)"
      ],
      "execution_count": null,
      "outputs": []
    },
    {
      "cell_type": "code",
      "metadata": {
        "id": "DUPbId_hfH8U"
      },
      "source": [
        "solarflares = solarflares[solarflares['Year'].notna()]"
      ],
      "execution_count": null,
      "outputs": []
    },
    {
      "cell_type": "code",
      "metadata": {
        "colab": {
          "base_uri": "https://localhost:8080/"
        },
        "id": "Jq0iE1gXb3k2",
        "outputId": "f33577d3-2cd0-4b0b-af3e-e71b2a996309"
      },
      "source": [
        "solarflares['Year'] = solarflares['Year'].astype('int') +2000\n",
        "solarflares['Date'] = solarflares[\"Year\"].astype('str') +  solarflares[\"Month\"].astype('str') + solarflares[\"Day\"].astype('str') + solarflares['Start_Time']\n",
        "\n",
        "solarflares.drop(columns = ['Year', 'Month', 'Day', 'Start_Time'], inplace = True)\n",
        "solarflares['Date'] = pd.to_datetime(solarflares['Date'], format='%Y%m%d%H%M%S')"
      ],
      "execution_count": null,
      "outputs": [
        {
          "output_type": "stream",
          "text": [
            "/usr/local/lib/python3.7/dist-packages/ipykernel_launcher.py:1: SettingWithCopyWarning: \n",
            "A value is trying to be set on a copy of a slice from a DataFrame.\n",
            "Try using .loc[row_indexer,col_indexer] = value instead\n",
            "\n",
            "See the caveats in the documentation: https://pandas.pydata.org/pandas-docs/stable/user_guide/indexing.html#returning-a-view-versus-a-copy\n",
            "  \"\"\"Entry point for launching an IPython kernel.\n",
            "/usr/local/lib/python3.7/dist-packages/ipykernel_launcher.py:2: SettingWithCopyWarning: \n",
            "A value is trying to be set on a copy of a slice from a DataFrame.\n",
            "Try using .loc[row_indexer,col_indexer] = value instead\n",
            "\n",
            "See the caveats in the documentation: https://pandas.pydata.org/pandas-docs/stable/user_guide/indexing.html#returning-a-view-versus-a-copy\n",
            "  \n",
            "/usr/local/lib/python3.7/dist-packages/pandas/core/frame.py:4174: SettingWithCopyWarning: \n",
            "A value is trying to be set on a copy of a slice from a DataFrame\n",
            "\n",
            "See the caveats in the documentation: https://pandas.pydata.org/pandas-docs/stable/user_guide/indexing.html#returning-a-view-versus-a-copy\n",
            "  errors=errors,\n",
            "/usr/local/lib/python3.7/dist-packages/ipykernel_launcher.py:5: SettingWithCopyWarning: \n",
            "A value is trying to be set on a copy of a slice from a DataFrame.\n",
            "Try using .loc[row_indexer,col_indexer] = value instead\n",
            "\n",
            "See the caveats in the documentation: https://pandas.pydata.org/pandas-docs/stable/user_guide/indexing.html#returning-a-view-versus-a-copy\n",
            "  \"\"\"\n"
          ],
          "name": "stderr"
        }
      ]
    },
    {
      "cell_type": "code",
      "metadata": {
        "id": "3I810LG2NkDM",
        "colab": {
          "base_uri": "https://localhost:8080/"
        },
        "outputId": "43c1a34f-f679-45fa-84cb-bfbedf348013"
      },
      "source": [
        "solarflares.replace('     ', np.nan, inplace = True)"
      ],
      "execution_count": null,
      "outputs": [
        {
          "output_type": "stream",
          "text": [
            "/usr/local/lib/python3.7/dist-packages/pandas/core/frame.py:4389: SettingWithCopyWarning: \n",
            "A value is trying to be set on a copy of a slice from a DataFrame\n",
            "\n",
            "See the caveats in the documentation: https://pandas.pydata.org/pandas-docs/stable/user_guide/indexing.html#returning-a-view-versus-a-copy\n",
            "  method=method,\n"
          ],
          "name": "stderr"
        }
      ]
    },
    {
      "cell_type": "code",
      "metadata": {
        "id": "kTrmIGYZdqIE"
      },
      "source": [
        "frames  = [solarflares_1990, solarflares]\n",
        "solarflares_total = pd.concat(frames)"
      ],
      "execution_count": null,
      "outputs": []
    },
    {
      "cell_type": "code",
      "metadata": {
        "colab": {
          "base_uri": "https://localhost:8080/",
          "height": 424
        },
        "id": "xSQF-fiudqFb",
        "outputId": "67544e49-c7d0-4fa4-f379-1646f6f798fd"
      },
      "source": [
        "solarflares_total"
      ],
      "execution_count": null,
      "outputs": [
        {
          "output_type": "execute_result",
          "data": {
            "text/html": [
              "<div>\n",
              "<style scoped>\n",
              "    .dataframe tbody tr th:only-of-type {\n",
              "        vertical-align: middle;\n",
              "    }\n",
              "\n",
              "    .dataframe tbody tr th {\n",
              "        vertical-align: top;\n",
              "    }\n",
              "\n",
              "    .dataframe thead th {\n",
              "        text-align: right;\n",
              "    }\n",
              "</style>\n",
              "<table border=\"1\" class=\"dataframe\">\n",
              "  <thead>\n",
              "    <tr style=\"text-align: right;\">\n",
              "      <th></th>\n",
              "      <th>X_Ray_Class</th>\n",
              "      <th>X_Ray_Intensity</th>\n",
              "      <th>Integrated_Flux</th>\n",
              "      <th>NOAA_Number</th>\n",
              "      <th>Date</th>\n",
              "    </tr>\n",
              "  </thead>\n",
              "  <tbody>\n",
              "    <tr>\n",
              "      <th>0</th>\n",
              "      <td>B</td>\n",
              "      <td>10</td>\n",
              "      <td>NaN</td>\n",
              "      <td></td>\n",
              "      <td>1996-01-03 11:00:07</td>\n",
              "    </tr>\n",
              "    <tr>\n",
              "      <th>1</th>\n",
              "      <td>B</td>\n",
              "      <td>36</td>\n",
              "      <td>NaN</td>\n",
              "      <td></td>\n",
              "      <td>1996-01-03 12:01:02</td>\n",
              "    </tr>\n",
              "    <tr>\n",
              "      <th>2</th>\n",
              "      <td>B</td>\n",
              "      <td>60</td>\n",
              "      <td>NaN</td>\n",
              "      <td></td>\n",
              "      <td>1996-01-03 13:03:04</td>\n",
              "    </tr>\n",
              "    <tr>\n",
              "      <th>3</th>\n",
              "      <td>B</td>\n",
              "      <td>28</td>\n",
              "      <td>NaN</td>\n",
              "      <td></td>\n",
              "      <td>1996-01-03 14:00:05</td>\n",
              "    </tr>\n",
              "    <tr>\n",
              "      <th>4</th>\n",
              "      <td>B</td>\n",
              "      <td>45</td>\n",
              "      <td>NaN</td>\n",
              "      <td></td>\n",
              "      <td>1996-01-03 14:03:08</td>\n",
              "    </tr>\n",
              "    <tr>\n",
              "      <th>...</th>\n",
              "      <td>...</td>\n",
              "      <td>...</td>\n",
              "      <td>...</td>\n",
              "      <td>...</td>\n",
              "      <td>...</td>\n",
              "    </tr>\n",
              "    <tr>\n",
              "      <th>1188</th>\n",
              "      <td>B</td>\n",
              "      <td>13</td>\n",
              "      <td>4.9E-05</td>\n",
              "      <td>NaN</td>\n",
              "      <td>2016-12-29 20:01:01</td>\n",
              "    </tr>\n",
              "    <tr>\n",
              "      <th>1189</th>\n",
              "      <td>B</td>\n",
              "      <td>10</td>\n",
              "      <td>2.2E-05</td>\n",
              "      <td>NaN</td>\n",
              "      <td>2016-12-30 01:03:00</td>\n",
              "    </tr>\n",
              "    <tr>\n",
              "      <th>1190</th>\n",
              "      <td>B</td>\n",
              "      <td>22</td>\n",
              "      <td>1.7E-04</td>\n",
              "      <td>NaN</td>\n",
              "      <td>2016-12-30 12:02:02</td>\n",
              "    </tr>\n",
              "    <tr>\n",
              "      <th>1191</th>\n",
              "      <td>B</td>\n",
              "      <td>23</td>\n",
              "      <td>2.1E-03</td>\n",
              "      <td>NaN</td>\n",
              "      <td>2016-12-31 01:03:02</td>\n",
              "    </tr>\n",
              "    <tr>\n",
              "      <th>1192</th>\n",
              "      <td>B</td>\n",
              "      <td>18</td>\n",
              "      <td>4.9E-04</td>\n",
              "      <td>NaN</td>\n",
              "      <td>2016-12-31 07:03:08</td>\n",
              "    </tr>\n",
              "  </tbody>\n",
              "</table>\n",
              "<p>36522 rows × 5 columns</p>\n",
              "</div>"
            ],
            "text/plain": [
              "     X_Ray_Class X_Ray_Intensity  ... NOAA_Number                Date\n",
              "0              B              10  ...             1996-01-03 11:00:07\n",
              "1              B              36  ...             1996-01-03 12:01:02\n",
              "2              B              60  ...             1996-01-03 13:03:04\n",
              "3              B              28  ...             1996-01-03 14:00:05\n",
              "4              B              45  ...             1996-01-03 14:03:08\n",
              "...          ...             ...  ...         ...                 ...\n",
              "1188           B              13  ...         NaN 2016-12-29 20:01:01\n",
              "1189           B              10  ...         NaN 2016-12-30 01:03:00\n",
              "1190           B              22  ...         NaN 2016-12-30 12:02:02\n",
              "1191           B              23  ...         NaN 2016-12-31 01:03:02\n",
              "1192           B              18  ...         NaN 2016-12-31 07:03:08\n",
              "\n",
              "[36522 rows x 5 columns]"
            ]
          },
          "metadata": {
            "tags": []
          },
          "execution_count": 92
        }
      ]
    },
    {
      "cell_type": "code",
      "metadata": {
        "colab": {
          "base_uri": "https://localhost:8080/"
        },
        "id": "54CMCvdcdqC1",
        "outputId": "b46c424e-a27b-44cc-c1d6-a614ffb20538"
      },
      "source": [
        "solarflares_total['X_Ray_Class'].value_counts()"
      ],
      "execution_count": null,
      "outputs": [
        {
          "output_type": "execute_result",
          "data": {
            "text/plain": [
              "C    20583\n",
              "B    13630\n",
              "M     2123\n",
              "X      170\n",
              "A       10\n",
              "         6\n",
              "Name: X_Ray_Class, dtype: int64"
            ]
          },
          "metadata": {
            "tags": []
          },
          "execution_count": 93
        }
      ]
    },
    {
      "cell_type": "code",
      "metadata": {
        "colab": {
          "base_uri": "https://localhost:8080/"
        },
        "id": "XA9Pc6b0dqAN",
        "outputId": "764be108-06a0-41dc-8b9d-3d1c60c3345a"
      },
      "source": [
        "solarflares_total.isna().sum()"
      ],
      "execution_count": null,
      "outputs": [
        {
          "output_type": "execute_result",
          "data": {
            "text/plain": [
              "X_Ray_Class            0\n",
              "X_Ray_Intensity        0\n",
              "Integrated_Flux      533\n",
              "NOAA_Number        13065\n",
              "Date                   0\n",
              "dtype: int64"
            ]
          },
          "metadata": {
            "tags": []
          },
          "execution_count": 94
        }
      ]
    },
    {
      "cell_type": "code",
      "metadata": {
        "id": "COwccmEBdp9Z"
      },
      "source": [
        "solarflares_total_copy = solarflares_total.copy()"
      ],
      "execution_count": null,
      "outputs": []
    },
    {
      "cell_type": "code",
      "metadata": {
        "id": "cLSjAk5sAP1z"
      },
      "source": [
        "solarflares_total.to_excel('Solarflares.xlsx')"
      ],
      "execution_count": null,
      "outputs": []
    },
    {
      "cell_type": "code",
      "metadata": {
        "colab": {
          "base_uri": "https://localhost:8080/",
          "height": 424
        },
        "id": "NmredMsmAobj",
        "outputId": "8212731e-8a5b-4a8c-b85b-5cbe8fb13ea8"
      },
      "source": [
        "solarflares_total"
      ],
      "execution_count": null,
      "outputs": [
        {
          "output_type": "execute_result",
          "data": {
            "text/html": [
              "<div>\n",
              "<style scoped>\n",
              "    .dataframe tbody tr th:only-of-type {\n",
              "        vertical-align: middle;\n",
              "    }\n",
              "\n",
              "    .dataframe tbody tr th {\n",
              "        vertical-align: top;\n",
              "    }\n",
              "\n",
              "    .dataframe thead th {\n",
              "        text-align: right;\n",
              "    }\n",
              "</style>\n",
              "<table border=\"1\" class=\"dataframe\">\n",
              "  <thead>\n",
              "    <tr style=\"text-align: right;\">\n",
              "      <th></th>\n",
              "      <th>X_Ray_Class</th>\n",
              "      <th>X_Ray_Intensity</th>\n",
              "      <th>Integrated_Flux</th>\n",
              "      <th>NOAA_Number</th>\n",
              "      <th>Date</th>\n",
              "    </tr>\n",
              "  </thead>\n",
              "  <tbody>\n",
              "    <tr>\n",
              "      <th>0</th>\n",
              "      <td>B</td>\n",
              "      <td>10</td>\n",
              "      <td>NaN</td>\n",
              "      <td></td>\n",
              "      <td>1996-01-03 11:00:07</td>\n",
              "    </tr>\n",
              "    <tr>\n",
              "      <th>1</th>\n",
              "      <td>B</td>\n",
              "      <td>36</td>\n",
              "      <td>NaN</td>\n",
              "      <td></td>\n",
              "      <td>1996-01-03 12:01:02</td>\n",
              "    </tr>\n",
              "    <tr>\n",
              "      <th>2</th>\n",
              "      <td>B</td>\n",
              "      <td>60</td>\n",
              "      <td>NaN</td>\n",
              "      <td></td>\n",
              "      <td>1996-01-03 13:03:04</td>\n",
              "    </tr>\n",
              "    <tr>\n",
              "      <th>3</th>\n",
              "      <td>B</td>\n",
              "      <td>28</td>\n",
              "      <td>NaN</td>\n",
              "      <td></td>\n",
              "      <td>1996-01-03 14:00:05</td>\n",
              "    </tr>\n",
              "    <tr>\n",
              "      <th>4</th>\n",
              "      <td>B</td>\n",
              "      <td>45</td>\n",
              "      <td>NaN</td>\n",
              "      <td></td>\n",
              "      <td>1996-01-03 14:03:08</td>\n",
              "    </tr>\n",
              "    <tr>\n",
              "      <th>...</th>\n",
              "      <td>...</td>\n",
              "      <td>...</td>\n",
              "      <td>...</td>\n",
              "      <td>...</td>\n",
              "      <td>...</td>\n",
              "    </tr>\n",
              "    <tr>\n",
              "      <th>1188</th>\n",
              "      <td>B</td>\n",
              "      <td>13</td>\n",
              "      <td>4.9E-05</td>\n",
              "      <td>NaN</td>\n",
              "      <td>2016-12-29 20:01:01</td>\n",
              "    </tr>\n",
              "    <tr>\n",
              "      <th>1189</th>\n",
              "      <td>B</td>\n",
              "      <td>10</td>\n",
              "      <td>2.2E-05</td>\n",
              "      <td>NaN</td>\n",
              "      <td>2016-12-30 01:03:00</td>\n",
              "    </tr>\n",
              "    <tr>\n",
              "      <th>1190</th>\n",
              "      <td>B</td>\n",
              "      <td>22</td>\n",
              "      <td>1.7E-04</td>\n",
              "      <td>NaN</td>\n",
              "      <td>2016-12-30 12:02:02</td>\n",
              "    </tr>\n",
              "    <tr>\n",
              "      <th>1191</th>\n",
              "      <td>B</td>\n",
              "      <td>23</td>\n",
              "      <td>2.1E-03</td>\n",
              "      <td>NaN</td>\n",
              "      <td>2016-12-31 01:03:02</td>\n",
              "    </tr>\n",
              "    <tr>\n",
              "      <th>1192</th>\n",
              "      <td>B</td>\n",
              "      <td>18</td>\n",
              "      <td>4.9E-04</td>\n",
              "      <td>NaN</td>\n",
              "      <td>2016-12-31 07:03:08</td>\n",
              "    </tr>\n",
              "  </tbody>\n",
              "</table>\n",
              "<p>36522 rows × 5 columns</p>\n",
              "</div>"
            ],
            "text/plain": [
              "     X_Ray_Class X_Ray_Intensity  ... NOAA_Number                Date\n",
              "0              B              10  ...             1996-01-03 11:00:07\n",
              "1              B              36  ...             1996-01-03 12:01:02\n",
              "2              B              60  ...             1996-01-03 13:03:04\n",
              "3              B              28  ...             1996-01-03 14:00:05\n",
              "4              B              45  ...             1996-01-03 14:03:08\n",
              "...          ...             ...  ...         ...                 ...\n",
              "1188           B              13  ...         NaN 2016-12-29 20:01:01\n",
              "1189           B              10  ...         NaN 2016-12-30 01:03:00\n",
              "1190           B              22  ...         NaN 2016-12-30 12:02:02\n",
              "1191           B              23  ...         NaN 2016-12-31 01:03:02\n",
              "1192           B              18  ...         NaN 2016-12-31 07:03:08\n",
              "\n",
              "[36522 rows x 5 columns]"
            ]
          },
          "metadata": {
            "tags": []
          },
          "execution_count": 96
        }
      ]
    },
    {
      "cell_type": "code",
      "metadata": {
        "id": "DHYlqfOOdp6r"
      },
      "source": [
        "solarflares_total_copy.dropna(inplace= True)"
      ],
      "execution_count": null,
      "outputs": []
    },
    {
      "cell_type": "code",
      "metadata": {
        "colab": {
          "base_uri": "https://localhost:8080/"
        },
        "id": "Or2V8RMGqT_V",
        "outputId": "3cc9b53f-ce8e-4199-ca86-79165a22f434"
      },
      "source": [
        "solarflares_total_copy.isna().sum()"
      ],
      "execution_count": null,
      "outputs": [
        {
          "output_type": "execute_result",
          "data": {
            "text/plain": [
              "X_Ray_Class        0\n",
              "X_Ray_Intensity    0\n",
              "Integrated_Flux    0\n",
              "NOAA_Number        0\n",
              "Date               0\n",
              "dtype: int64"
            ]
          },
          "metadata": {
            "tags": []
          },
          "execution_count": 208
        }
      ]
    },
    {
      "cell_type": "code",
      "metadata": {
        "colab": {
          "base_uri": "https://localhost:8080/"
        },
        "id": "7nNHcyXGqT86",
        "outputId": "b755a0fa-d9e6-4e76-9605-44612efcc48f"
      },
      "source": [
        "solarflares_total_copy['X_Ray_Class'].value_counts()"
      ],
      "execution_count": null,
      "outputs": [
        {
          "output_type": "execute_result",
          "data": {
            "text/plain": [
              "C    11862\n",
              "B     5804\n",
              "M     1627\n",
              "X      141\n",
              "A        4\n",
              "Name: X_Ray_Class, dtype: int64"
            ]
          },
          "metadata": {
            "tags": []
          },
          "execution_count": 209
        }
      ]
    },
    {
      "cell_type": "code",
      "metadata": {
        "id": "Qm-neq-nqT6f"
      },
      "source": [
        ""
      ],
      "execution_count": null,
      "outputs": []
    },
    {
      "cell_type": "code",
      "metadata": {
        "id": "M00RCnBUQxOz"
      },
      "source": [
        "solarflares.drop(columns= ['Year', 'Month', 'Day','SXI','CMP_Year', 'CMP_Month', 'CMP_Day', 'Total_Region_Area',\n",
        "       'Total_Intensity', 'latitude'  ], inplace = True)"
      ],
      "execution_count": null,
      "outputs": []
    },
    {
      "cell_type": "code",
      "metadata": {
        "id": "94WE3FZHSqOT",
        "colab": {
          "base_uri": "https://localhost:8080/",
          "height": 355
        },
        "outputId": "9d96b3ff-876c-4ef1-b792-aaf32f098f83"
      },
      "source": [
        "import seaborn as sns\n",
        "sns.countplot(solarflares['X_Ray_Class'])"
      ],
      "execution_count": null,
      "outputs": [
        {
          "output_type": "stream",
          "text": [
            "/usr/local/lib/python3.7/dist-packages/seaborn/_decorators.py:43: FutureWarning: Pass the following variable as a keyword arg: x. From version 0.12, the only valid positional argument will be `data`, and passing other arguments without an explicit keyword will result in an error or misinterpretation.\n",
            "  FutureWarning\n"
          ],
          "name": "stderr"
        },
        {
          "output_type": "execute_result",
          "data": {
            "text/plain": [
              "<matplotlib.axes._subplots.AxesSubplot at 0x7fa2c2d97790>"
            ]
          },
          "metadata": {
            "tags": []
          },
          "execution_count": 125
        },
        {
          "output_type": "display_data",
          "data": {
            "image/png": "[encoded data removed]",
            "text/plain": [
              "<Figure size 432x288 with 1 Axes>"
            ]
          },
          "metadata": {
            "tags": [],
            "needs_background": "light"
          }
        }
      ]
    },
    {
      "cell_type": "code",
      "metadata": {
        "colab": {
          "base_uri": "https://localhost:8080/"
        },
        "id": "k7JB-8QaMotk",
        "outputId": "68b2b0c0-6ae8-4352-96c5-3317ed9a9e1e"
      },
      "source": [
        "solarflares['X_Ray_Class'].value_counts()"
      ],
      "execution_count": null,
      "outputs": [
        {
          "output_type": "execute_result",
          "data": {
            "text/plain": [
              "C    10199\n",
              "B     5343\n",
              "M     1451\n",
              "X      128\n",
              "A        3\n",
              "Name: X_Ray_Class, dtype: int64"
            ]
          },
          "metadata": {
            "tags": []
          },
          "execution_count": 129
        }
      ]
    },
    {
      "cell_type": "code",
      "metadata": {
        "id": "oWR7bRZuMxuj"
      },
      "source": [
        "solarflares.dropna(inplace= True)"
      ],
      "execution_count": null,
      "outputs": []
    },
    {
      "cell_type": "code",
      "metadata": {
        "id": "T09yZQtcVrf1"
      },
      "source": [
        "solarflares_total.to_csv(\"solarflares.csv\") "
      ],
      "execution_count": null,
      "outputs": []
    },
    {
      "cell_type": "code",
      "metadata": {
        "id": "PL48J3z5Vs-8"
      },
      "source": [
        "solarflares['Date'] = pd.to_datetime(solarflares['Date'])"
      ],
      "execution_count": null,
      "outputs": []
    },
    {
      "cell_type": "code",
      "metadata": {
        "colab": {
          "base_uri": "https://localhost:8080/",
          "height": 424
        },
        "id": "3zwk0fWZL6jA",
        "outputId": "6f1be8d7-0a32-4395-c230-7758a9d37689"
      },
      "source": [
        "solarflares"
      ],
      "execution_count": null,
      "outputs": [
        {
          "output_type": "execute_result",
          "data": {
            "text/html": [
              "<div>\n",
              "<style scoped>\n",
              "    .dataframe tbody tr th:only-of-type {\n",
              "        vertical-align: middle;\n",
              "    }\n",
              "\n",
              "    .dataframe tbody tr th {\n",
              "        vertical-align: top;\n",
              "    }\n",
              "\n",
              "    .dataframe thead th {\n",
              "        text-align: right;\n",
              "    }\n",
              "</style>\n",
              "<table border=\"1\" class=\"dataframe\">\n",
              "  <thead>\n",
              "    <tr style=\"text-align: right;\">\n",
              "      <th></th>\n",
              "      <th>Start_Time</th>\n",
              "      <th>End_Time</th>\n",
              "      <th>Max_Time</th>\n",
              "      <th>X_Ray_Class</th>\n",
              "      <th>X_Ray_Intensity</th>\n",
              "      <th>Integrated_Flux</th>\n",
              "      <th>NOAA_Number</th>\n",
              "      <th>Date</th>\n",
              "    </tr>\n",
              "  </thead>\n",
              "  <tbody>\n",
              "    <tr>\n",
              "      <th>0</th>\n",
              "      <td>0106</td>\n",
              "      <td>0134</td>\n",
              "      <td>0120</td>\n",
              "      <td>C</td>\n",
              "      <td>31</td>\n",
              "      <td>4.2E-03</td>\n",
              "      <td></td>\n",
              "      <td>2000-01-01</td>\n",
              "    </tr>\n",
              "    <tr>\n",
              "      <th>1</th>\n",
              "      <td>2013</td>\n",
              "      <td>2020</td>\n",
              "      <td>2016</td>\n",
              "      <td>B</td>\n",
              "      <td>80</td>\n",
              "      <td>2.8E-04</td>\n",
              "      <td>8814</td>\n",
              "      <td>2000-01-01</td>\n",
              "    </tr>\n",
              "    <tr>\n",
              "      <th>2</th>\n",
              "      <td>2245</td>\n",
              "      <td>2300</td>\n",
              "      <td>2251</td>\n",
              "      <td>C</td>\n",
              "      <td>12</td>\n",
              "      <td>9.3E-04</td>\n",
              "      <td></td>\n",
              "      <td>2000-01-01</td>\n",
              "    </tr>\n",
              "    <tr>\n",
              "      <th>3</th>\n",
              "      <td>2220</td>\n",
              "      <td>2237</td>\n",
              "      <td>2227</td>\n",
              "      <td>C</td>\n",
              "      <td>51</td>\n",
              "      <td>3.3E-03</td>\n",
              "      <td>8813</td>\n",
              "      <td>2000-01-02</td>\n",
              "    </tr>\n",
              "    <tr>\n",
              "      <th>4</th>\n",
              "      <td>0413</td>\n",
              "      <td>0436</td>\n",
              "      <td>0421</td>\n",
              "      <td>C</td>\n",
              "      <td>13</td>\n",
              "      <td>1.5E-03</td>\n",
              "      <td>8815</td>\n",
              "      <td>2000-01-03</td>\n",
              "    </tr>\n",
              "    <tr>\n",
              "      <th>...</th>\n",
              "      <td>...</td>\n",
              "      <td>...</td>\n",
              "      <td>...</td>\n",
              "      <td>...</td>\n",
              "      <td>...</td>\n",
              "      <td>...</td>\n",
              "      <td>...</td>\n",
              "      <td>...</td>\n",
              "    </tr>\n",
              "    <tr>\n",
              "      <th>1188</th>\n",
              "      <td>2011</td>\n",
              "      <td>2020</td>\n",
              "      <td>2015</td>\n",
              "      <td>B</td>\n",
              "      <td>13</td>\n",
              "      <td>4.9E-05</td>\n",
              "      <td></td>\n",
              "      <td>2016-12-29</td>\n",
              "    </tr>\n",
              "    <tr>\n",
              "      <th>1189</th>\n",
              "      <td>0130</td>\n",
              "      <td>0136</td>\n",
              "      <td>0133</td>\n",
              "      <td>B</td>\n",
              "      <td>10</td>\n",
              "      <td>2.2E-05</td>\n",
              "      <td></td>\n",
              "      <td>2016-12-30</td>\n",
              "    </tr>\n",
              "    <tr>\n",
              "      <th>1190</th>\n",
              "      <td>1222</td>\n",
              "      <td>1239</td>\n",
              "      <td>1229</td>\n",
              "      <td>B</td>\n",
              "      <td>22</td>\n",
              "      <td>1.7E-04</td>\n",
              "      <td></td>\n",
              "      <td>2016-12-30</td>\n",
              "    </tr>\n",
              "    <tr>\n",
              "      <th>1191</th>\n",
              "      <td>0132</td>\n",
              "      <td>0417</td>\n",
              "      <td>0350</td>\n",
              "      <td>B</td>\n",
              "      <td>23</td>\n",
              "      <td>2.1E-03</td>\n",
              "      <td></td>\n",
              "      <td>2016-12-31</td>\n",
              "    </tr>\n",
              "    <tr>\n",
              "      <th>1192</th>\n",
              "      <td>0738</td>\n",
              "      <td>0836</td>\n",
              "      <td>0812</td>\n",
              "      <td>B</td>\n",
              "      <td>18</td>\n",
              "      <td>4.9E-04</td>\n",
              "      <td></td>\n",
              "      <td>2016-12-31</td>\n",
              "    </tr>\n",
              "  </tbody>\n",
              "</table>\n",
              "<p>30203 rows × 8 columns</p>\n",
              "</div>"
            ],
            "text/plain": [
              "     Start_Time End_Time Max_Time  ... Integrated_Flux NOAA_Number       Date\n",
              "0          0106     0134     0120  ...        4.2E-03              2000-01-01\n",
              "1          2013     2020     2016  ...        2.8E-04         8814 2000-01-01\n",
              "2          2245     2300     2251  ...        9.3E-04              2000-01-01\n",
              "3          2220     2237     2227  ...        3.3E-03         8813 2000-01-02\n",
              "4          0413     0436     0421  ...        1.5E-03         8815 2000-01-03\n",
              "...         ...      ...      ...  ...             ...         ...        ...\n",
              "1188       2011     2020     2015  ...        4.9E-05              2016-12-29\n",
              "1189       0130     0136     0133  ...        2.2E-05              2016-12-30\n",
              "1190       1222     1239     1229  ...        1.7E-04              2016-12-30\n",
              "1191       0132     0417     0350  ...        2.1E-03              2016-12-31\n",
              "1192       0738     0836     0812  ...        4.9E-04              2016-12-31\n",
              "\n",
              "[30203 rows x 8 columns]"
            ]
          },
          "metadata": {
            "tags": []
          },
          "execution_count": 105
        }
      ]
    },
    {
      "cell_type": "code",
      "metadata": {
        "id": "sf3qOqQUL-OM"
      },
      "source": [
        "solarflares.drop(columns = ['Code','Goes_Station_Code','Station_Code' ], inplace = True)"
      ],
      "execution_count": null,
      "outputs": []
    },
    {
      "cell_type": "code",
      "metadata": {
        "colab": {
          "base_uri": "https://localhost:8080/"
        },
        "id": "AYXGgjcPMBkM",
        "outputId": "7b83d91a-6875-4f48-f00b-72e8a4d2560e"
      },
      "source": [
        "solarflares.columns"
      ],
      "execution_count": null,
      "outputs": [
        {
          "output_type": "execute_result",
          "data": {
            "text/plain": [
              "Index(['Code', 'Goes_Station_Code', 'Start_Time', 'End_Time', 'Max_Time',\n",
              "       'X_Ray_Class', 'X_Ray_Intensity', 'Station_Code', 'Integrated_Flux',\n",
              "       'NOAA_Number', 'Date'],\n",
              "      dtype='object')"
            ]
          },
          "metadata": {
            "tags": []
          },
          "execution_count": 103
        }
      ]
    },
    {
      "cell_type": "code",
      "metadata": {
        "id": "dxOVF-KdqgbB"
      },
      "source": [
        "solarflares_total.dropna(inplace= True)"
      ],
      "execution_count": null,
      "outputs": []
    },
    {
      "cell_type": "code",
      "metadata": {
        "id": "nO5ObzzAW6ci"
      },
      "source": [
        "solarflares_total.to_csv('Solarflares.csv')"
      ],
      "execution_count": null,
      "outputs": []
    },
    {
      "cell_type": "code",
      "metadata": {
        "colab": {
          "base_uri": "https://localhost:8080/",
          "height": 459
        },
        "id": "RRj43oT1XTzy",
        "outputId": "a9724a29-0807-4a46-e241-f2edbb434090"
      },
      "source": [
        "susnpots"
      ],
      "execution_count": null,
      "outputs": [
        {
          "output_type": "execute_result",
          "data": {
            "text/html": [
              "<div>\n",
              "<style scoped>\n",
              "    .dataframe tbody tr th:only-of-type {\n",
              "        vertical-align: middle;\n",
              "    }\n",
              "\n",
              "    .dataframe tbody tr th {\n",
              "        vertical-align: top;\n",
              "    }\n",
              "\n",
              "    .dataframe thead th {\n",
              "        text-align: right;\n",
              "    }\n",
              "</style>\n",
              "<table border=\"1\" class=\"dataframe\">\n",
              "  <thead>\n",
              "    <tr style=\"text-align: right;\">\n",
              "      <th></th>\n",
              "      <th>Code</th>\n",
              "      <th>Wilson Magnetic Classification</th>\n",
              "      <th>NOAA Number</th>\n",
              "      <th>Number of Spots</th>\n",
              "      <th>Longitudanal extent</th>\n",
              "      <th>Area</th>\n",
              "      <th>Station serial number</th>\n",
              "      <th>Quality</th>\n",
              "      <th>Station</th>\n",
              "      <th>Date</th>\n",
              "      <th>Latitude_Longitude</th>\n",
              "      <th>McIntosh_Classification</th>\n",
              "      <th>Time</th>\n",
              "    </tr>\n",
              "  </thead>\n",
              "  <tbody>\n",
              "    <tr>\n",
              "      <th>0</th>\n",
              "      <td>11</td>\n",
              "      <td>A</td>\n",
              "      <td>11138</td>\n",
              "      <td>2</td>\n",
              "      <td>5</td>\n",
              "      <td>30</td>\n",
              "      <td>120</td>\n",
              "      <td>3</td>\n",
              "      <td>LEAR</td>\n",
              "      <td>2011-01-01</td>\n",
              "      <td>N17W68</td>\n",
              "      <td>AXX</td>\n",
              "      <td>01:05</td>\n",
              "    </tr>\n",
              "    <tr>\n",
              "      <th>1</th>\n",
              "      <td>11</td>\n",
              "      <td>A</td>\n",
              "      <td>11139</td>\n",
              "      <td>1</td>\n",
              "      <td>1</td>\n",
              "      <td>10</td>\n",
              "      <td>121</td>\n",
              "      <td>3</td>\n",
              "      <td>LEAR</td>\n",
              "      <td>2011-01-01</td>\n",
              "      <td>S30E16</td>\n",
              "      <td>AXX</td>\n",
              "      <td>01:05</td>\n",
              "    </tr>\n",
              "    <tr>\n",
              "      <th>2</th>\n",
              "      <td>11</td>\n",
              "      <td>B</td>\n",
              "      <td>11140</td>\n",
              "      <td>1</td>\n",
              "      <td>3</td>\n",
              "      <td>250</td>\n",
              "      <td>123</td>\n",
              "      <td>3</td>\n",
              "      <td>LEAR</td>\n",
              "      <td>2011-01-01</td>\n",
              "      <td>N27E65</td>\n",
              "      <td>HSX</td>\n",
              "      <td>01:05</td>\n",
              "    </tr>\n",
              "    <tr>\n",
              "      <th>3</th>\n",
              "      <td>11</td>\n",
              "      <td>A</td>\n",
              "      <td>////</td>\n",
              "      <td>4</td>\n",
              "      <td>4</td>\n",
              "      <td>30</td>\n",
              "      <td>124</td>\n",
              "      <td>3</td>\n",
              "      <td>LEAR</td>\n",
              "      <td>2011-01-01</td>\n",
              "      <td>S17E45</td>\n",
              "      <td>BXO</td>\n",
              "      <td>01:05</td>\n",
              "    </tr>\n",
              "    <tr>\n",
              "      <th>4</th>\n",
              "      <td>11</td>\n",
              "      <td>B</td>\n",
              "      <td>////</td>\n",
              "      <td>6</td>\n",
              "      <td>6</td>\n",
              "      <td>130</td>\n",
              "      <td>125</td>\n",
              "      <td>3</td>\n",
              "      <td>LEAR</td>\n",
              "      <td>2011-01-01</td>\n",
              "      <td>N35W07</td>\n",
              "      <td>DSO</td>\n",
              "      <td>01:05</td>\n",
              "    </tr>\n",
              "    <tr>\n",
              "      <th>...</th>\n",
              "      <td>...</td>\n",
              "      <td>...</td>\n",
              "      <td>...</td>\n",
              "      <td>...</td>\n",
              "      <td>...</td>\n",
              "      <td>...</td>\n",
              "      <td>...</td>\n",
              "      <td>...</td>\n",
              "      <td>...</td>\n",
              "      <td>...</td>\n",
              "      <td>...</td>\n",
              "      <td>...</td>\n",
              "      <td>...</td>\n",
              "    </tr>\n",
              "    <tr>\n",
              "      <th>28094</th>\n",
              "      <td>11</td>\n",
              "      <td>B</td>\n",
              "      <td>12621</td>\n",
              "      <td>3</td>\n",
              "      <td>6</td>\n",
              "      <td>10</td>\n",
              "      <td>214</td>\n",
              "      <td>3</td>\n",
              "      <td>HOLL</td>\n",
              "      <td>2016-12-28</td>\n",
              "      <td>N10W74</td>\n",
              "      <td>BXO</td>\n",
              "      <td>19:08</td>\n",
              "    </tr>\n",
              "    <tr>\n",
              "      <th>28095</th>\n",
              "      <td>11</td>\n",
              "      <td>A</td>\n",
              "      <td>////</td>\n",
              "      <td>1</td>\n",
              "      <td>1</td>\n",
              "      <td>10</td>\n",
              "      <td>176</td>\n",
              "      <td>2</td>\n",
              "      <td>LEAR</td>\n",
              "      <td>2016-12-29</td>\n",
              "      <td>S05E13</td>\n",
              "      <td>AXX</td>\n",
              "      <td>01:04</td>\n",
              "    </tr>\n",
              "    <tr>\n",
              "      <th>28096</th>\n",
              "      <td>11</td>\n",
              "      <td>A</td>\n",
              "      <td>12622</td>\n",
              "      <td>1</td>\n",
              "      <td>1</td>\n",
              "      <td>10</td>\n",
              "      <td>175</td>\n",
              "      <td>2</td>\n",
              "      <td>LEAR</td>\n",
              "      <td>2016-12-30</td>\n",
              "      <td>N12W45</td>\n",
              "      <td>AXX</td>\n",
              "      <td>01:00</td>\n",
              "    </tr>\n",
              "    <tr>\n",
              "      <th>28097</th>\n",
              "      <td>11</td>\n",
              "      <td>A</td>\n",
              "      <td>12622</td>\n",
              "      <td>1</td>\n",
              "      <td>0</td>\n",
              "      <td>10</td>\n",
              "      <td>175</td>\n",
              "      <td>3</td>\n",
              "      <td>LEAR</td>\n",
              "      <td>2016-12-31</td>\n",
              "      <td>N10W60</td>\n",
              "      <td>AXX</td>\n",
              "      <td>00:07</td>\n",
              "    </tr>\n",
              "    <tr>\n",
              "      <th>28098</th>\n",
              "      <td>11</td>\n",
              "      <td>A</td>\n",
              "      <td>12622</td>\n",
              "      <td>1</td>\n",
              "      <td>0</td>\n",
              "      <td>0</td>\n",
              "      <td>198</td>\n",
              "      <td>3</td>\n",
              "      <td>SVTO</td>\n",
              "      <td>2016-12-31</td>\n",
              "      <td>N12W59</td>\n",
              "      <td>AXX</td>\n",
              "      <td>07:20</td>\n",
              "    </tr>\n",
              "  </tbody>\n",
              "</table>\n",
              "<p>28099 rows × 13 columns</p>\n",
              "</div>"
            ],
            "text/plain": [
              "       Code Wilson Magnetic Classification  ... McIntosh_Classification   Time\n",
              "0        11                            A    ...                     AXX  01:05\n",
              "1        11                            A    ...                     AXX  01:05\n",
              "2        11                            B    ...                     HSX  01:05\n",
              "3        11                            A    ...                     BXO  01:05\n",
              "4        11                            B    ...                     DSO  01:05\n",
              "...     ...                            ...  ...                     ...    ...\n",
              "28094    11                            B    ...                     BXO  19:08\n",
              "28095    11                            A    ...                     AXX  01:04\n",
              "28096    11                            A    ...                     AXX  01:00\n",
              "28097    11                            A    ...                     AXX  00:07\n",
              "28098    11                            A    ...                     AXX  07:20\n",
              "\n",
              "[28099 rows x 13 columns]"
            ]
          },
          "metadata": {
            "tags": []
          },
          "execution_count": 93
        }
      ]
    },
    {
      "cell_type": "code",
      "metadata": {
        "id": "s0-hvxykXzgT"
      },
      "source": [
        "d1 = {'NOAA_NUmber' : 7893, 'Date' : 1998-10-11}, {'NOAA_NUmber' : 7890, 'Date' : 1998-11-11}, {'NOAA_NUmber' : 7896, 'Date' : 1998-11-12}"
      ],
      "execution_count": null,
      "outputs": []
    },
    {
      "cell_type": "code",
      "metadata": {
        "colab": {
          "base_uri": "https://localhost:8080/"
        },
        "id": "pdhXjaUPptSX",
        "outputId": "24094e97-5c36-4127-8f87-f660951b32c2"
      },
      "source": [
        "d1"
      ],
      "execution_count": null,
      "outputs": [
        {
          "output_type": "execute_result",
          "data": {
            "text/plain": [
              "({'Date': 1977, 'NOAA_NUmber': 7893},\n",
              " {'Date': 1976, 'NOAA_NUmber': 7890},\n",
              " {'Date': 1975, 'NOAA_NUmber': 7896})"
            ]
          },
          "metadata": {
            "tags": []
          },
          "execution_count": 7
        }
      ]
    },
    {
      "cell_type": "code",
      "metadata": {
        "id": "ALXpfaQ6qXae"
      },
      "source": [
        ""
      ],
      "execution_count": null,
      "outputs": []
    }
  ]
}